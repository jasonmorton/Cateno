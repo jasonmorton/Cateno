{
 "metadata": {
  "language": "Julia",
  "name": "",
  "signature": "sha256:421c7e118860b7abff7acc2f852eb0ba73e2abd53911b0d29e2aa29b80556f03"
 },
 "nbformat": 3,
 "nbformat_minor": 0,
 "worksheets": [
  {
   "cells": [
    {
     "cell_type": "code",
     "collapsed": false,
     "input": [
      "using FiniteTensorSignatures"
     ],
     "language": "python",
     "metadata": {},
     "outputs": [
      {
       "output_type": "stream",
       "stream": "stderr",
       "text": [
        "Warning: imported binding for ClosedCompactCategory overwritten in module FiniteTensorSignatures\n",
        "Warning: Method definition dual(Typeclass_stub"
       ]
      },
      {
       "output_type": "stream",
       "stream": "stderr",
       "text": [
        "{:ClosedCompactCategory},) in module MonoidalCategories overwritten in module FiniteTensorSignatures.\n",
        "Warning: Method definition transp(Typeclass_stub{:ClosedCompactCategory},) in module MonoidalCategories overwritten in module FiniteTensorSignatures.\n",
        "Warning: Method definition ev(Typeclass_stub{:ClosedCompactCategory},) in module MonoidalCategories overwritten in module FiniteTensorSignatures.\n",
        "Warning: Method definition coev(Typeclass_stub{:ClosedCompactCategory},) in module MonoidalCategories overwritten in module FiniteTensorSignatures.\n",
        "Warning: Method definition Hom(Typeclass_stub{:ClosedCompactCategory},) in module MonoidalCategories overwritten in module FiniteTensorSignatures.\n",
        "Warning: Method definition sigma(Typeclass_stub{:ClosedCompactCategory},) in module MonoidalCategories overwritten in module FiniteTensorSignatures.\n",
        "Warning: Method definition tr(Typeclass_stub{:ClosedCompactCategory},) in module MonoidalCategories overwritten in module FiniteTensorSignatures.\n",
        "Warning: imported binding for DaggerClosedCompactCategory overwritten in module FiniteTensorSignatures\n",
        "Warning: Method definition dagger(Typeclass_stub{:DaggerClosedCompactCategory},) in module MonoidalCategories overwritten in module FiniteTensorSignatures.\n"
       ]
      }
     ],
     "prompt_number": 1
    },
    {
     "cell_type": "code",
     "collapsed": false,
     "input": [
      "eval(fts\"\u03f5:V\u2192V,\u03a8:I\u2192V\u2297V\u2297V\")\n",
      "#equivalent to\n",
      "#\u03a8=MW(:\u03a8,T)\n",
      "#\u03f5=MW(:\u03f5,T)\n",
      "#V=FiniteTensorSignatures.ObjectWord(OWord(:V),T)"
     ],
     "language": "python",
     "metadata": {},
     "outputs": [
      {
       "metadata": {},
       "output_type": "pyout",
       "prompt_number": 4,
       "text": [
        "V over {\u03a8:I\u2192V\u2297V\u2297V,\u03f5:V\u2192V}"
       ]
      }
     ],
     "prompt_number": 4
    },
    {
     "cell_type": "code",
     "collapsed": false,
     "input": [],
     "language": "python",
     "metadata": {},
     "outputs": [],
     "prompt_number": 5
    },
    {
     "cell_type": "code",
     "collapsed": false,
     "input": [],
     "language": "python",
     "metadata": {},
     "outputs": [],
     "prompt_number": 6
    },
    {
     "cell_type": "code",
     "collapsed": false,
     "input": [
      "id(V\u2297V)"
     ],
     "language": "python",
     "metadata": {},
     "outputs": [
      {
       "metadata": {},
       "output_type": "pyout",
       "prompt_number": 7,
       "text": [
        "id(\u2297(V,V)):V\u2297V\u2192V\u2297V over {\u03a8:I\u2192V\u2297V\u2297V,\u03f5:V\u2192V}"
       ]
      }
     ],
     "prompt_number": 7
    },
    {
     "cell_type": "code",
     "collapsed": false,
     "input": [
      "bip1=\u03a8'\u2218(id(V)\u2297\u03f5\u2297\u03f5)\u2218 \u03a8"
     ],
     "language": "python",
     "metadata": {},
     "outputs": [
      {
       "metadata": {},
       "output_type": "pyout",
       "prompt_number": 9,
       "text": [
        "\u2218(\u2218(\u03a8d,\u2297(\u2297(id(V),\u03f5),\u03f5)),\u03a8):I\u2192I over {\u03a8:I\u2192V\u2297V\u2297V,\u03f5:V\u2192V}"
       ]
      }
     ],
     "prompt_number": 9
    },
    {
     "cell_type": "code",
     "collapsed": false,
     "input": [
      "id(V).contents"
     ],
     "language": "python",
     "metadata": {},
     "outputs": [
      {
       "metadata": {},
       "output_type": "pyout",
       "prompt_number": 10,
       "text": [
        ":(id(V))"
       ]
      }
     ],
     "prompt_number": 10
    },
    {
     "cell_type": "code",
     "collapsed": false,
     "input": [],
     "language": "python",
     "metadata": {},
     "outputs": [
      {
       "output_type": "stream",
       "stream": "stderr",
       "text": [
        "INFO: Instance delcaration omitted method f::Mat | g::Mat is already defined, skipping specializing MonoidalCategory class method\n",
        "INFO: Instance delcaration omitted method transpose(f::Mat) is already defined, skipping specializing ClosedCompactCategory class method\n"
       ]
      }
     ],
     "prompt_number": 11
    },
    {
     "cell_type": "code",
     "collapsed": false,
     "input": [],
     "language": "python",
     "metadata": {},
     "outputs": [
      {
       "metadata": {},
       "output_type": "pyout",
       "prompt_number": 12,
       "text": [
        "3x3 Array{Float64,2}:\n",
        " 1.0  0.0  0.0\n",
        " 0.0  1.0  0.0\n",
        " 0.0  0.0  1.0"
       ]
      }
     ],
     "prompt_number": 12
    },
    {
     "cell_type": "code",
     "collapsed": false,
     "input": [
      "using BinBraKet"
     ],
     "language": "python",
     "metadata": {},
     "outputs": [],
     "prompt_number": 13
    },
    {
     "cell_type": "code",
     "collapsed": false,
     "input": [],
     "language": "python",
     "metadata": {},
     "outputs": [],
     "prompt_number": 71
    },
    {
     "cell_type": "code",
     "collapsed": false,
     "input": [
      "\u03f5=ket\"0\"\u2218bra\"1\" - ket\"1\"\u2218bra\"0\""
     ],
     "language": "python",
     "metadata": {},
     "outputs": [
      {
       "metadata": {},
       "output_type": "pyout",
       "prompt_number": 14,
       "text": [
        "2x2 Array{Float64,2}:\n",
        "  0.0  1.0\n",
        " -1.0  0.0"
       ]
      }
     ],
     "prompt_number": 14
    },
    {
     "cell_type": "code",
     "collapsed": false,
     "input": [
      "\u03a8=ket\"001\"+ket\"010\"+ket\"100\";\n",
      "\u03a8d=\u03a8';\n",
      "V=2;"
     ],
     "language": "python",
     "metadata": {},
     "outputs": [],
     "prompt_number": 15
    },
    {
     "cell_type": "code",
     "collapsed": false,
     "input": [
      "bip1"
     ],
     "language": "python",
     "metadata": {},
     "outputs": [
      {
       "metadata": {},
       "output_type": "pyout",
       "prompt_number": 74,
       "text": [
        "\u2218(\u2218(\u03a8d,\u2297(\u2297(id(V),\u03f5),\u03f5)),\u03a8):I\u2192I over {\u03a8:I\u2192V\u2297V\u2297V,\u03f5:V\u2192V}"
       ]
      }
     ],
     "prompt_number": 74
    },
    {
     "cell_type": "code",
     "collapsed": false,
     "input": [
      "eval(bip1.contents)"
     ],
     "language": "python",
     "metadata": {},
     "outputs": [
      {
       "metadata": {},
       "output_type": "pyout",
       "prompt_number": 75,
       "text": [
        "1x1 Array{Float64,2}:\n",
        " -2.0"
       ]
      }
     ],
     "prompt_number": 75
    },
    {
     "cell_type": "code",
     "collapsed": false,
     "input": [
      "\u03a8'\u2218(id(V)\u2297\u03f5\u2297\u03f5)\u2218\u03a8"
     ],
     "language": "python",
     "metadata": {},
     "outputs": [
      {
       "metadata": {},
       "output_type": "pyout",
       "prompt_number": 76,
       "text": [
        "1x1 Array{Float64,2}:\n",
        " -2.0"
       ]
      }
     ],
     "prompt_number": 76
    },
    {
     "cell_type": "code",
     "collapsed": false,
     "input": [
      "val(f::FiniteTensorSignatures.MorphismWord)=eval(f.contents)"
     ],
     "language": "python",
     "metadata": {},
     "outputs": [
      {
       "metadata": {},
       "output_type": "pyout",
       "prompt_number": 77,
       "text": [
        "val (generic function with 1 method)"
       ]
      }
     ],
     "prompt_number": 77
    },
    {
     "cell_type": "code",
     "collapsed": false,
     "input": [
      "FiniteTensorSignatures.eval(bip1.contents)"
     ],
     "language": "python",
     "metadata": {},
     "outputs": [
      {
       "ename": "LoadError",
       "evalue": "\u03a8d not defined\nwhile loading In[78], in expression starting on line 1",
       "output_type": "pyerr",
       "traceback": [
        "\u03a8d not defined\nwhile loading In[78], in expression starting on line 1",
        "",
        " in eval at no file"
       ]
      }
     ],
     "prompt_number": 78
    },
    {
     "cell_type": "code",
     "collapsed": false,
     "input": [
      "IntMat2.eval(bip1)"
     ],
     "language": "python",
     "metadata": {},
     "outputs": [
      {
       "ename": "LoadError",
       "evalue": "IntMat2 not defined\nwhile loading In[79], in expression starting on line 1",
       "output_type": "pyerr",
       "traceback": [
        "IntMat2 not defined\nwhile loading In[79], in expression starting on line 1",
        ""
       ]
      }
     ],
     "prompt_number": 79
    },
    {
     "cell_type": "code",
     "collapsed": false,
     "input": [],
     "language": "python",
     "metadata": {},
     "outputs": [],
     "prompt_number": 80
    },
    {
     "cell_type": "code",
     "collapsed": false,
     "input": [
      "id(V)"
     ],
     "language": "python",
     "metadata": {},
     "outputs": [
      {
       "metadata": {},
       "output_type": "pyout",
       "prompt_number": 81,
       "text": [
        "2x2 Array{Float64,2}:\n",
        " 1.0  0.0\n",
        " 0.0  1.0"
       ]
      }
     ],
     "prompt_number": 81
    },
    {
     "cell_type": "code",
     "collapsed": false,
     "input": [
      "module W\n",
      "#export \u03a8\n",
      "using BinBraKet,MonoidalCategories\n",
      "\u03a8=ket\"001\"+ket\"010\"+ket\"100\"\n",
      "\u03a8d=\u03a8'\n",
      "\u03f5=ket\"0\"\u2218bra\"1\" - ket\"1\"\u2218bra\"0\"\n",
      "V=2\n",
      "end"
     ],
     "language": "python",
     "metadata": {},
     "outputs": [
      {
       "output_type": "stream",
       "stream": "stderr",
       "text": [
        "Warning: replacing module W\n"
       ]
      }
     ],
     "prompt_number": 82
    },
    {
     "cell_type": "code",
     "collapsed": false,
     "input": [
      "eval(W,bip1.contents)"
     ],
     "language": "python",
     "metadata": {},
     "outputs": [
      {
       "metadata": {},
       "output_type": "pyout",
       "prompt_number": 83,
       "text": [
        "1x1 Array{Float64,2}:\n",
        " -2.0"
       ]
      }
     ],
     "prompt_number": 83
    },
    {
     "cell_type": "code",
     "collapsed": false,
     "input": [
      "using WiresBoxes"
     ],
     "language": "python",
     "metadata": {},
     "outputs": [],
     "prompt_number": 84
    },
    {
     "cell_type": "code",
     "collapsed": false,
     "input": [
      "#This information can be automatically extracted from the TS\n",
      "\u03a8=ket(3,\"\u03a8\");\n",
      "\u03a8d=bra(3,\"\u03a8\");\n",
      "\u03f5=Box(1,1,\"\u03f5\");\n",
      "V=Wires(1);"
     ],
     "language": "python",
     "metadata": {},
     "outputs": [
      {
       "ename": "LoadError",
       "evalue": "Box: too many arguments (expected 1)\nwhile loading In[85], in expression starting on line 4",
       "output_type": "pyerr",
       "traceback": [
        "Box: too many arguments (expected 1)\nwhile loading In[85], in expression starting on line 4",
        ""
       ]
      }
     ],
     "prompt_number": 85
    },
    {
     "cell_type": "code",
     "collapsed": false,
     "input": [
      "typeof(Box)"
     ],
     "language": "python",
     "metadata": {},
     "outputs": [
      {
       "metadata": {},
       "output_type": "pyout",
       "prompt_number": 86,
       "text": [
        "DataType"
       ]
      }
     ],
     "prompt_number": 86
    },
    {
     "cell_type": "code",
     "collapsed": false,
     "input": [
      "bip1"
     ],
     "language": "python",
     "metadata": {},
     "outputs": [
      {
       "metadata": {},
       "output_type": "pyout",
       "prompt_number": 87,
       "text": [
        "\u2218(\u2218(\u03a8d,\u2297(\u2297(id(V),\u03f5),\u03f5)),\u03a8):I\u2192I over {\u03a8:I\u2192V\u2297V\u2297V,\u03f5:V\u2192V}"
       ]
      }
     ],
     "prompt_number": 87
    },
    {
     "cell_type": "code",
     "collapsed": false,
     "input": [
      "eval(bip1.contents).con"
     ],
     "language": "python",
     "metadata": {},
     "outputs": [
      {
       "ename": "LoadError",
       "evalue": "`\u2218` has no method matching \u2218(::Boxx, ::Array{Float64,2})\nwhile loading In[88], in expression starting on line 1",
       "output_type": "pyerr",
       "traceback": [
        "`\u2218` has no method matching \u2218(::Boxx, ::Array{Float64,2})\nwhile loading In[88], in expression starting on line 1",
        ""
       ]
      }
     ],
     "prompt_number": 88
    },
    {
     "cell_type": "code",
     "collapsed": false,
     "input": [
      "methods(writemime)"
     ],
     "language": "python",
     "metadata": {},
     "outputs": [
      {
       "html": [
        "25 methods for generic function <b>writemime</b>:<ul><li> writemime(io::<b>IO</b>,m::<b>String</b>,x) at <a href=\"https://github.com/JuliaLang/julia/tree/cb9bcae93a32b42cec02585c387396ff11836aed/base/multimedia.jl#L41\" target=\"_blank\">multimedia.jl:41</a><li> writemime(io::<b>IO</b>,::<b>MIME{symbol(\"text/html\")}</b>,m::<b>Method</b>) at <a href=\"https://github.com/JuliaLang/julia/tree/cb9bcae93a32b42cec02585c387396ff11836aed/base/methodshow.jl#L107\" target=\"_blank\">methodshow.jl:107</a><li> writemime(io::<b>IO</b>,mime::<b>MIME{symbol(\"text/html\")}</b>,mt::<b>MethodTable</b>) at <a href=\"https://github.com/JuliaLang/julia/tree/cb9bcae93a32b42cec02585c387396ff11836aed/base/methodshow.jl#L130\" target=\"_blank\">methodshow.jl:130</a><li> writemime(io::<b>IO</b>,mime::<b>MIME{symbol(\"text/html\")}</b>,mt::<b>AbstractArray{Method,1}</b>) at <a href=\"https://github.com/JuliaLang/julia/tree/cb9bcae93a32b42cec02585c387396ff11836aed/base/methodshow.jl#L146\" target=\"_blank\">methodshow.jl:146</a><li> writemime(io::<b>IO</b>,mime::<b>MIME{symbol(\"text/plain\")}</b>,mt::<b>AbstractArray{Method,1}</b>) at <a href=\"https://github.com/JuliaLang/julia/tree/cb9bcae93a32b42cec02585c387396ff11836aed/base/methodshow.jl#L158\" target=\"_blank\">methodshow.jl:158</a><li> writemime(io::<b>IO</b>,::<b>MIME{symbol(\"text/csv\")}</b>,a::<b>Union(AbstractArray{T,2},AbstractArray{T,1})</b>) at <a href=\"https://github.com/JuliaLang/julia/tree/cb9bcae93a32b42cec02585c387396ff11836aed/base/datafmt.jl#L557\" target=\"_blank\">datafmt.jl:557</a><li> writemime(io::<b>IO</b>,::<b>MIME{symbol(\"text/tab-separated-values\")}</b>,a::<b>Union(AbstractArray{T,2},AbstractArray{T,1})</b>) at <a href=\"https://github.com/JuliaLang/julia/tree/cb9bcae93a32b42cec02585c387396ff11836aed/base/datafmt.jl#L558\" target=\"_blank\">datafmt.jl:558</a><li> writemime(io::<b>IO</b>,::<b>MIME{symbol(\"text/plain\")}</b>,f::<b>Function</b>) at <a href=\"https://github.com/JuliaLang/julia/tree/cb9bcae93a32b42cec02585c387396ff11836aed/base/replutil.jl#L5\" target=\"_blank\">replutil.jl:5</a><li> writemime(io::<b>IO</b>,::<b>MIME{symbol(\"text/plain\")}</b>,v::<b>AbstractArray{T,1}</b>) at <a href=\"https://github.com/JuliaLang/julia/tree/cb9bcae93a32b42cec02585c387396ff11836aed/base/replutil.jl#L15\" target=\"_blank\">replutil.jl:15</a><li> writemime(io::<b>IO</b>,::<b>MIME{symbol(\"text/plain\")}</b>,v::<b>AbstractArray{T,N}</b>) at <a href=\"https://github.com/JuliaLang/julia/tree/cb9bcae93a32b42cec02585c387396ff11836aed/base/replutil.jl#L26\" target=\"_blank\">replutil.jl:26</a><li> writemime(io::<b>IO</b>,::<b>MIME{symbol(\"text/plain\")}</b>,v::<b>DataType</b>) at <a href=\"https://github.com/JuliaLang/julia/tree/cb9bcae93a32b42cec02585c387396ff11836aed/base/replutil.jl#L30\" target=\"_blank\">replutil.jl:30</a><li> writemime(io::<b>IO</b>,::<b>MIME{symbol(\"text/plain\")}</b>,t::<b>Associative{K,V}</b>) at <a href=\"https://github.com/JuliaLang/julia/tree/cb9bcae93a32b42cec02585c387396ff11836aed/base/replutil.jl#L39\" target=\"_blank\">replutil.jl:39</a><li> writemime(io::<b>IO</b>,::<b>MIME{symbol(\"text/plain\")}</b>,t::<b>Union(KeyIterator{T<:Associative{K,V}},ValueIterator{T<:Associative{K,V}})</b>) at <a href=\"https://github.com/JuliaLang/julia/tree/cb9bcae93a32b42cec02585c387396ff11836aed/base/replutil.jl#L41\" target=\"_blank\">replutil.jl:41</a><li> writemime(io::<b>IO</b>,::<b>MIME{symbol(\"text/plain\")}</b>,x) at <a href=\"https://github.com/JuliaLang/julia/tree/cb9bcae93a32b42cec02585c387396ff11836aed/base/replutil.jl#L2\" target=\"_blank\">replutil.jl:2</a><li> writemime(io::<b>IO</b>,::<b>MIME{symbol(\"image/svg+xml\")}</b>,c::<b>ColorValue{T}</b>) at <a href=\"https://github.com/JuliaLang/Color.jl/tree/9aa3265a9bb239a152be4fa6ed37c7d903ec8bd2/src/display.jl#L24\" target=\"_blank\">/home/jason/.julia/Color/src/display.jl:24</a><li> writemime<i>{T<:ColorValue{T}}</i>(io::<b>IO</b>,::<b>MIME{symbol(\"image/svg+xml\")}</b>,cs::<b>Union(AbstractArray{T<:ColorValue{T},1},AbstractArray{T<:ColorValue{T},2})</b>) at <a href=\"https://github.com/JuliaLang/Color.jl/tree/9aa3265a9bb239a152be4fa6ed37c7d903ec8bd2/src/display.jl#L39\" target=\"_blank\">/home/jason/.julia/Color/src/display.jl:39</a><li> writemime(io::<b>IO</b>,::<b>MIME{symbol(\"image/png\")}</b>,surface::<b>CairoSurface</b>) at <a href=\"https://github.com/JuliaLang/Cairo.jl/tree/51cc3050d30f36e56dbb179d57df9163f5d2d5b9/src/Cairo.jl#L296\" target=\"_blank\">/home/jason/.julia/Cairo/src/Cairo.jl:296</a><li> writemime(io::<b>IO</b>,::<b>MIME{symbol(\"image/png\")}</b>,img::<b>Image{PNGBackend}</b>) at <a href=\"https://github.com/dcjones/Compose.jl/tree/56a7b59d15cbbe7dff1f16d3e47064ae7a9130ed/src/cairo_backends.jl#L290\" target=\"_blank\">/home/jason/.julia/Compose/src/cairo_backends.jl:290</a><li> writemime(io::<b>IO</b>,::<b>MIME{symbol(\"application/pdf\")}</b>,img::<b>Image{PDFBackend}</b>) at <a href=\"https://github.com/dcjones/Compose.jl/tree/56a7b59d15cbbe7dff1f16d3e47064ae7a9130ed/src/cairo_backends.jl#L295\" target=\"_blank\">/home/jason/.julia/Compose/src/cairo_backends.jl:295</a><li> writemime(io::<b>IO</b>,::<b>MIME{symbol(\"application/postscript\")}</b>,img::<b>Image{PSBackend}</b>) at <a href=\"https://github.com/dcjones/Compose.jl/tree/56a7b59d15cbbe7dff1f16d3e47064ae7a9130ed/src/cairo_backends.jl#L300\" target=\"_blank\">/home/jason/.julia/Compose/src/cairo_backends.jl:300</a><li> writemime(io::<b>IO</b>,::<b>MIME{symbol(\"text/html\")}</b>,img::<b>SVG</b>) at <a href=\"https://github.com/dcjones/Compose.jl/tree/56a7b59d15cbbe7dff1f16d3e47064ae7a9130ed/src/svg.jl#L477\" target=\"_blank\">/home/jason/.julia/Compose/src/svg.jl:477</a><li> writemime(io::<b>IO</b>,::<b>MIME{symbol(\"image/svg+xml\")}</b>,img::<b>SVG</b>) at <a href=\"https://github.com/dcjones/Compose.jl/tree/56a7b59d15cbbe7dff1f16d3e47064ae7a9130ed/src/svg.jl#L485\" target=\"_blank\">/home/jason/.julia/Compose/src/svg.jl:485</a><li> writemime(io::<b>IO</b>,m::<b>MIME{symbol(\"text/html\")}</b>,ctx::<b>Context</b>) at <a href=\"https://github.com/dcjones/Compose.jl/tree/56a7b59d15cbbe7dff1f16d3e47064ae7a9130ed/src/Compose.jl#L180\" target=\"_blank\">/home/jason/.julia/Compose/src/Compose.jl:180</a><li> writemime(io::<b>IO</b>,m::<b>MIME{symbol(\"image/svg+xml\")}</b>,ctx::<b>Context</b>) at <a href=\"https://github.com/dcjones/Compose.jl/tree/56a7b59d15cbbe7dff1f16d3e47064ae7a9130ed/src/Compose.jl#L185\" target=\"_blank\">/home/jason/.julia/Compose/src/Compose.jl:185</a><li> writemime(io::<b>IO</b>,::<b>MIME{symbol(\"image/png\")}</b>,ctx::<b>Context</b>) at <a href=\"https://github.com/dcjones/Compose.jl/tree/56a7b59d15cbbe7dff1f16d3e47064ae7a9130ed/src/Compose.jl#L191\" target=\"_blank\">/home/jason/.julia/Compose/src/Compose.jl:191</a></ul>"
       ],
       "metadata": {},
       "output_type": "pyout",
       "prompt_number": 89,
       "text": [
        "# 25 methods for generic function \"writemime\":\n",
        "writemime(io::IO,m::String,x) at multimedia.jl:41\n",
        "writemime(io::IO,::MIME{symbol(\"text/html\")},m::Method) at methodshow.jl:107\n",
        "writemime(io::IO,mime::MIME{symbol(\"text/html\")},mt::MethodTable) at methodshow.jl:130\n",
        "writemime(io::IO,mime::MIME{symbol(\"text/html\")},mt::AbstractArray{Method,1}) at methodshow.jl:146\n",
        "writemime(io::IO,mime::MIME{symbol(\"text/plain\")},mt::AbstractArray{Method,1}) at methodshow.jl:158\n",
        "writemime(io::IO,::MIME{symbol(\"text/csv\")},a::Union(AbstractArray{T,2},AbstractArray{T,1})) at datafmt.jl:557\n",
        "writemime(io::IO,::MIME{symbol(\"text/tab-separated-values\")},a::Union(AbstractArray{T,2},AbstractArray{T,1})) at datafmt.jl:558\n",
        "writemime(io::IO,::MIME{symbol(\"text/plain\")},f::Function) at replutil.jl:5\n",
        "writemime(io::IO,::MIME{symbol(\"text/plain\")},v::AbstractArray{T,1}) at replutil.jl:15\n",
        "writemime(io::IO,::MIME{symbol(\"text/plain\")},v::AbstractArray{T,N}) at replutil.jl:26\n",
        "writemime(io::IO,::MIME{symbol(\"text/plain\")},v::DataType) at replutil.jl:30\n",
        "writemime(io::IO,::MIME{symbol(\"text/plain\")},t::Associative{K,V}) at replutil.jl:39\n",
        "writemime(io::IO,::MIME{symbol(\"text/plain\")},t::Union(KeyIterator{T<:Associative{K,V}},ValueIterator{T<:Associative{K,V}})) at replutil.jl:41\n",
        "writemime(io::IO,::MIME{symbol(\"text/plain\")},x) at replutil.jl:2\n",
        "writemime(io::IO,::MIME{symbol(\"image/svg+xml\")},c::ColorValue{T}) at /home/jason/.julia/Color/src/display.jl:24\n",
        "writemime{T<:ColorValue{T}}(io::IO,::MIME{symbol(\"image/svg+xml\")},cs::Union(AbstractArray{T<:ColorValue{T},1},AbstractArray{T<:ColorValue{T},2})) at /home/jason/.julia/Color/src/display.jl:39\n",
        "writemime(io::IO,::MIME{symbol(\"image/png\")},surface::CairoSurface) at /home/jason/.julia/Cairo/src/Cairo.jl:296\n",
        "writemime(io::IO,::MIME{symbol(\"image/png\")},img::Image{PNGBackend}) at /home/jason/.julia/Compose/src/cairo_backends.jl:290\n",
        "writemime(io::IO,::MIME{symbol(\"application/pdf\")},img::Image{PDFBackend}) at /home/jason/.julia/Compose/src/cairo_backends.jl:295\n",
        "writemime(io::IO,::MIME{symbol(\"application/postscript\")},img::Image{PSBackend}) at /home/jason/.julia/Compose/src/cairo_backends.jl:300\n",
        "writemime(io::IO,::MIME{symbol(\"text/html\")},img::SVG) at /home/jason/.julia/Compose/src/svg.jl:477\n",
        "writemime(io::IO,::MIME{symbol(\"image/svg+xml\")},img::SVG) at /home/jason/.julia/Compose/src/svg.jl:485\n",
        "writemime(io::IO,m::MIME{symbol(\"text/html\")},ctx::Context) at /home/jason/.julia/Compose/src/Compose.jl:180\n",
        "writemime(io::IO,m::MIME{symbol(\"image/svg+xml\")},ctx::Context) at /home/jason/.julia/Compose/src/Compose.jl:185\n",
        "writemime(io::IO,::MIME{symbol(\"image/png\")},ctx::Context) at /home/jason/.julia/Compose/src/Compose.jl:191"
       ]
      }
     ],
     "prompt_number": 89
    },
    {
     "cell_type": "code",
     "collapsed": false,
     "input": [],
     "language": "python",
     "metadata": {},
     "outputs": [],
     "prompt_number": 90
    }
   ],
   "metadata": {}
  }
 ]
}