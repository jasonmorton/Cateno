{
 "metadata": {
  "language": "Julia",
  "name": "",
  "signature": "sha256:befb4b5c4316aea9dc055edd2d6fb7f9319d1de4c5fa936aa9d78f2bac083db4"
 },
 "nbformat": 3,
 "nbformat_minor": 0,
 "worksheets": [
  {
   "cells": [
    {
     "cell_type": "code",
     "collapsed": false,
     "input": [
      "using MonoidalCategories,FiniteTensorSignatures,Representations,WiresBoxes,IntMat"
     ],
     "language": "python",
     "metadata": {},
     "outputs": [
      {
       "output_type": "stream",
       "stream": "stderr",
       "text": [
        "Warning: imported binding for ClosedCompactCategory overwritten in module FiniteTensorSignatures\n",
        "Warning: Method definition dual(Typeclass_stub"
       ]
      },
      {
       "output_type": "stream",
       "stream": "stderr",
       "text": [
        "{:ClosedCompactCategory},) in module MonoidalCategories overwritten in module FiniteTensorSignatures.\n",
        "Warning: Method definition transp(Typeclass_stub{:ClosedCompactCategory},) in module MonoidalCategories overwritten in module FiniteTensorSignatures.\n",
        "Warning: Method definition ev(Typeclass_stub{:ClosedCompactCategory},) in module MonoidalCategories overwritten in module FiniteTensorSignatures.\n",
        "Warning: Method definition coev(Typeclass_stub{:ClosedCompactCategory},) in module MonoidalCategories overwritten in module FiniteTensorSignatures.\n",
        "Warning: Method definition Hom(Typeclass_stub{:ClosedCompactCategory},) in module MonoidalCategories overwritten in module FiniteTensorSignatures.\n",
        "Warning: Method definition sigma(Typeclass_stub{:ClosedCompactCategory},) in module MonoidalCategories overwritten in module FiniteTensorSignatures.\n",
        "Warning: Method definition tr(Typeclass_stub{:ClosedCompactCategory},) in module MonoidalCategories overwritten in module FiniteTensorSignatures.\n",
        "Warning: imported binding for DaggerClosedCompactCategory overwritten in module FiniteTensorSignatures\n",
        "Warning: Method definition dagger(Typeclass_stub{:DaggerClosedCompactCategory},) in module MonoidalCategories overwritten in module FiniteTensorSignatures.\n",
        "INFO: Instance delcaration omitted method f::Mat | g::Mat is already defined, skipping specializing MonoidalCategory class method\n"
       ]
      },
      {
       "output_type": "stream",
       "stream": "stderr",
       "text": [
        "INFO: Instance delcaration omitted method transpose(f::Mat) is already defined, skipping specializing ClosedCompactCategory class method\n"
       ]
      }
     ],
     "prompt_number": 1
    },
    {
     "cell_type": "code",
     "collapsed": false,
     "input": [
      "eval(fts\"\u03f5:V\u2192V,\u03a8:I\u2192V\u2297V\u2297V\")\n",
      "#equivalent to\n",
      "#T=FTS(\"\u03f5:V\u2192V,\u03a8:I\u2192V\u2297V\u2297V\")\n",
      "#\u03a8=MW(:\u03a8,T)\n",
      "#\u03f5=MW(:\u03f5,T)\n",
      "#V=FiniteTensorSignatures.ObjectWord(OWord(:V),T)"
     ],
     "language": "python",
     "metadata": {},
     "outputs": [
      {
       "metadata": {},
       "output_type": "pyout",
       "prompt_number": 2,
       "text": [
        "{\u03a8:I\u2192V\u2297V\u2297V,\u03f5:V\u2192V}"
       ]
      }
     ],
     "prompt_number": 2
    },
    {
     "cell_type": "code",
     "collapsed": false,
     "input": [
      "diaObDict={:V=>Wires(1),:I=>munit(Wires(1))}\n",
      "diaMorDict={:\u03f5=>mbox(1,1,\"\u03f5\"),:\u03a8=>ket(3,\"\u03a8\")}\n",
      "diagram=Representation(T,DaggerClosedCompactCategory,diaObDict,diaMorDict)"
     ],
     "language": "python",
     "metadata": {},
     "outputs": [
      {
       "metadata": {},
       "output_type": "pyout",
       "prompt_number": 3,
       "text": [
        "Representation({\u03a8:I\u2192V\u2297V\u2297V,\u03f5:V\u2192V},Typeclass DaggerClosedCompactCategory\n",
        "Type parameters (:Ob,:Mor)\n",
        "Declarations {(:(dagger(A::Ob)),Any,:A),(:(dagger(f::Mor)),:Mor,nothing),(:(ctranspose(f::MorphismWord)),Any,:(dagger(f)))}\n",
        ",{:I=>Wires(0),:V=>Wires(1)},{:\u03a8=>Boxx(Context(BoundingBox(Measure{MeasureNil,MeasureNil}(0.0,MeasureNil(),MeasureNil(),0.0,0.0),Measure{MeasureNil,MeasureNil}(0.0,MeasureNil(),MeasureNil(),0.0,0.0),Measure{MeasureNil,MeasureNil}(0.0,MeasureNil(),MeasureNil(),1.0,0.0),Measure{MeasureNil,MeasureNil}(0.0,MeasureNil(),MeasureNil(),0.0,1.0)),UnitBox{Nothing,Nothing,Nothing,Nothing}(nothing,nothing,nothing,nothing,Measure{MeasureNil,MeasureNil}(0.0,MeasureNil(),MeasureNil(),0.0,0.0),Measure{MeasureNil,MeasureNil}(0.0,MeasureNil(),MeasureNil(),0.0,0.0),Measure{MeasureNil,MeasureNil}(0.0,MeasureNil(),MeasureNil(),0.0,0.0),Measure{MeasureNil,MeasureNil}(0.0,MeasureNil(),MeasureNil(),0.0,0.0)),Rotation(0.0,Point(Measure{MeasureNil,MeasureNil}(0.0,MeasureNil(),MeasureNil(),0.5,0.0),Measure{MeasureNil,MeasureNil}(0.0,MeasureNil(),MeasureNil(),0.0,0.5))),nothing,ListNode{ComposeNode}(Context(BoundingBox(Measure{Float64,MeasureNil}(0.0,0.5,MeasureNil(),0.0,0.0),Measure{MeasureNil,Int64}(0.0,MeasureNil(),0,0.0,0.0),Measure{Float64,MeasureNil}(0.0,0.5,MeasureNil(),0.0,0.0),Measure{MeasureNil,Int64}(0.0,MeasureNil(),1,0.0,0.0)),UnitBox{Nothing,Nothing,Nothing,Nothing}(nothing,nothing,nothing,nothing,Measure{MeasureNil,MeasureNil}(0.0,MeasureNil(),MeasureNil(),0.0,0.0),Measure{MeasureNil,MeasureNil}(0.0,MeasureNil(),MeasureNil(),0.0,0.0),Measure{MeasureNil,MeasureNil}(0.0,MeasureNil(),MeasureNil(),0.0,0.0),Measure{MeasureNil,MeasureNil}(0.0,MeasureNil(),MeasureNil(),0.0,0.0)),Rotation(0.0,Point(Measure{MeasureNil,MeasureNil}(0.0,MeasureNil(),MeasureNil(),0.5,0.0),Measure{MeasureNil,MeasureNil}(0.0,MeasureNil(),MeasureNil(),0.0,0.5))),nothing,ListNode{ComposeNode}(Context(BoundingBox(Measure{MeasureNil,MeasureNil}(0.0,MeasureNil(),MeasureNil(),0.0,0.0),Measure{MeasureNil,MeasureNil}(0.0,MeasureNil(),MeasureNil(),0.0,0.0),Measure{MeasureNil,MeasureNil}(0.0,MeasureNil(),MeasureNil(),1.0,0.0),Measure{MeasureNil,MeasureNil}(0.0,MeasureNil(),MeasureNil(),0.0,1.0)),UnitBox{Nothing,Nothing,Nothing,Nothing}(nothing,nothing,nothing,nothing,Measure{MeasureNil,MeasureNil}(0.0,MeasureNil(),MeasureNil(),0.0,0.0),Measure{MeasureNil,MeasureNil}(0.0,MeasureNil(),MeasureNil(),0.0,0.0),Measure{MeasureNil,MeasureNil}(0.0,MeasureNil(),MeasureNil(),0.0,0.0),Measure{MeasureNil,MeasureNil}(0.0,MeasureNil(),MeasureNil(),0.0,0.0)),Rotation(0.0,Point(Measure{MeasureNil,MeasureNil}(0.0,MeasureNil(),MeasureNil(),0.5,0.0),Measure{MeasureNil,MeasureNil}(0.0,MeasureNil(),MeasureNil(),0.0,0.5))),nothing,ListNode{ComposeNode}(Form{TextPrimitive}([TextPrimitive(Point(Measure{Float64,MeasureNil}(0.0,0.5,MeasureNil(),0.0,0.0),Measure{MeasureNil,Float64}(0.0,MeasureNil(),0.5,0.0,0.0)),\"\u03a8\",HLeft(),VBottom(),Rotation(0.0,Point(Measure{MeasureNil,MeasureNil}(0.0,MeasureNil(),MeasureNil(),0.5,0.0),Measure{MeasureNil,MeasureNil}(0.0,MeasureNil(),MeasureNil(),0.0,0.5))))]),ListNode{ComposeNode}(Property{StrokePrimitive}([StrokePrimitive(RGB{Float64}(0.0,0.0,0.0))]),ListNode{ComposeNode}(Property{FillPrimitive}([FillPrimitive(AlphaColorValue{RGB{Float64},Float64}(RGB{Float64}(0.0,0.0,0.0),0.0))]),ListNode{ComposeNode}(Form{PolygonPrimitive}([PolygonPrimitive([Point(Measure{Int64,MeasureNil}(0.0,1,MeasureNil(),0.0,0.0),Measure{MeasureNil,Float64}(0.0,MeasureNil(),0.5,0.0,0.0)),Point(Measure{Int64,MeasureNil}(0.0,0,MeasureNil(),0.0,0.0),Measure{MeasureNil,Float64}(0.0,MeasureNil(),0.95,0.0,0.0)),Point(Measure{Int64,MeasureNil}(0.0,0,MeasureNil(),0.0,0.0),Measure{MeasureNil,Float64}(0.0,MeasureNil(),0.05,0.0,0.0))])]),ListNull{ComposeNode}())))),0,false,false,false,false,nothing,nothing,0.0),ListNull{ComposeNode}()),0,false,false,false,false,nothing,nothing,0.0),ListNode{ComposeNode}(Context(BoundingBox(Measure{Int64,MeasureNil}(0.0,0,MeasureNil(),0.0,0.0),Measure{MeasureNil,Int64}(0.0,MeasureNil(),0,0.0,0.0),Measure{Float64,MeasureNil}(0.0,0.5,MeasureNil(),0.0,0.0),Measure{MeasureNil,Int64}(0.0,MeasureNil(),1,0.0,0.0)),UnitBox{Nothing,Nothing,Nothing,Nothing}(nothing,nothing,nothing,nothing,Measure{MeasureNil,MeasureNil}(0.0,MeasureNil(),MeasureNil(),0.0,0.0),Measure{MeasureNil,MeasureNil}(0.0,MeasureNil(),MeasureNil(),0.0,0.0),Measure{MeasureNil,MeasureNil}(0.0,MeasureNil(),MeasureNil(),0.0,0.0),Measure{MeasureNil,MeasureNil}(0.0,MeasureNil(),MeasureNil(),0.0,0.0)),Rotation(0.0,Point(Measure{MeasureNil,MeasureNil}(0.0,MeasureNil(),MeasureNil(),0.5,0.0),Measure{MeasureNil,MeasureNil}(0.0,MeasureNil(),MeasureNil(),0.0,0.5))),nothing,ListNode{ComposeNode}(Context(BoundingBox(Measure{MeasureNil,MeasureNil}(0.0,MeasureNil(),MeasureNil(),0.0,0.0),Measure{MeasureNil,MeasureNil}(0.0,MeasureNil(),MeasureNil(),0.0,0.0),Measure{MeasureNil,MeasureNil}(0.0,MeasureNil(),MeasureNil(),1.0,0.0),Measure{MeasureNil,MeasureNil}(0.0,MeasureNil(),MeasureNil(),0.0,1.0)),UnitBox{Nothing,Nothing,Nothing,Nothing}(nothing,nothing,nothing,nothing,Measure{MeasureNil,MeasureNil}(0.0,MeasureNil(),MeasureNil(),0.0,0.0),Measure{MeasureNil,MeasureNil}(0.0,MeasureNil(),MeasureNil(),0.0,0.0),Measure{MeasureNil,MeasureNil}(0.0,MeasureNil(),MeasureNil(),0.0,0.0),Measure{MeasureNil,MeasureNil}(0.0,MeasureNil(),MeasureNil(),0.0,0.0)),Rotation(0.0,Point(Measure{MeasureNil,MeasureNil}(0.0,MeasureNil(),MeasureNil(),0.5,0.0),Measure{MeasureNil,MeasureNil}(0.0,MeasureNil(),MeasureNil(),0.0,0.5))),nothing,ListNode{ComposeNode}(Form{LinePrimitive}([LinePrimitive([Point(Measure{Int64,MeasureNil}(0.0,0,MeasureNil(),0.0,0.0),Measure{MeasureNil,Float64}(0.0,MeasureNil(),0.8333333333333334,0.0,0.0)),Point(Measure{Int64,MeasureNil}(0.0,1,MeasureNil(),0.0,0.0),Measure{MeasureNil,Float64}(0.0,MeasureNil(),0.8333333333333334,0.0,0.0))])]),ListNode{ComposeNode}(Form{LinePrimitive}([LinePrimitive([Point(Measure{Int64,MeasureNil}(0.0,0,MeasureNil(),0.0,0.0),Measure{MeasureNil,Float64}(0.0,MeasureNil(),0.5,0.0,0.0)),Point(Measure{Int64,MeasureNil}(0.0,1,MeasureNil(),0.0,0.0),Measure{MeasureNil,Float64}(0.0,MeasureNil(),0.5,0.0,0.0))])]),ListNode{ComposeNode}(Form{LinePrimitive}([LinePrimitive([Point(Measure{Int64,MeasureNil}(0.0,0,MeasureNil(),0.0,0.0),Measure{MeasureNil,Float64}(0.0,MeasureNil(),0.16666666666666666,0.0,0.0)),Point(Measure{Int64,MeasureNil}(0.0,1,MeasureNil(),0.0,0.0),Measure{MeasureNil,Float64}(0.0,MeasureNil(),0.16666666666666666,0.0,0.0))])]),ListNode{ComposeNode}(Property{LineWidthPrimitive}([LineWidthPrimitive(Measure{MeasureNil,MeasureNil}(1.0,MeasureNil(),MeasureNil(),0.0,0.0))]),ListNode{ComposeNode}(Property{StrokePrimitive}([StrokePrimitive(RGB{Float64}(0.0,0.0,0.0))]),ListNull{ComposeNode}()))))),0,false,false,false,false,nothing,nothing,0.0),ListNull{ComposeNode}()),0,false,false,false,false,nothing,nothing,0.0),ListNull{ComposeNode}())),0,false,false,false,false,nothing,nothing,0.0),Wires(0),Wires(3),1),:\u03f5=>Boxx(Context(BoundingBox(Measure{MeasureNil,MeasureNil}(0.0,MeasureNil(),MeasureNil(),0.0,0.0),Measure{MeasureNil,MeasureNil}(0.0,MeasureNil(),MeasureNil(),0.0,0.0),Measure{MeasureNil,MeasureNil}(0.0,MeasureNil(),MeasureNil(),1.0,0.0),Measure{MeasureNil,MeasureNil}(0.0,MeasureNil(),MeasureNil(),0.0,1.0)),UnitBox{Nothing,Nothing,Nothing,Nothing}(nothing,nothing,nothing,nothing,Measure{MeasureNil,MeasureNil}(0.0,MeasureNil(),MeasureNil(),0.0,0.0),Measure{MeasureNil,MeasureNil}(0.0,MeasureNil(),MeasureNil(),0.0,0.0),Measure{MeasureNil,MeasureNil}(0.0,MeasureNil(),MeasureNil(),0.0,0.0),Measure{MeasureNil,MeasureNil}(0.0,MeasureNil(),MeasureNil(),0.0,0.0)),Rotation(0.0,Point(Measure{MeasureNil,MeasureNil}(0.0,MeasureNil(),MeasureNil(),0.5,0.0),Measure{MeasureNil,MeasureNil}(0.0,MeasureNil(),MeasureNil(),0.0,0.5))),nothing,ListNode{ComposeNode}(Context(BoundingBox(Measure{Float64,MeasureNil}(0.0,0.75,MeasureNil(),0.0,0.0),Measure{MeasureNil,Int64}(0.0,MeasureNil(),0,0.0,0.0),Measure{Float64,MeasureNil}(0.0,0.25,MeasureNil(),0.0,0.0),Measure{MeasureNil,Int64}(0.0,MeasureNil(),1,0.0,0.0)),UnitBox{Nothing,Nothing,Nothing,Nothing}(nothing,nothing,nothing,nothing,Measure{MeasureNil,MeasureNil}(0.0,MeasureNil(),MeasureNil(),0.0,0.0),Measure{MeasureNil,MeasureNil}(0.0,MeasureNil(),MeasureNil(),0.0,0.0),Measure{MeasureNil,MeasureNil}(0.0,MeasureNil(),MeasureNil(),0.0,0.0),Measure{MeasureNil,MeasureNil}(0.0,MeasureNil(),MeasureNil(),0.0,0.0)),Rotation(0.0,Point(Measure{MeasureNil,MeasureNil}(0.0,MeasureNil(),MeasureNil(),0.5,0.0),Measure{MeasureNil,MeasureNil}(0.0,MeasureNil(),MeasureNil(),0.0,0.5))),nothing,ListNode{ComposeNode}(Context(BoundingBox(Measure{MeasureNil,MeasureNil}(0.0,MeasureNil(),MeasureNil(),0.0,0.0),Measure{MeasureNil,MeasureNil}(0.0,MeasureNil(),MeasureNil(),0.0,0.0),Measure{MeasureNil,MeasureNil}(0.0,MeasureNil(),MeasureNil(),1.0,0.0),Measure{MeasureNil,MeasureNil}(0.0,MeasureNil(),MeasureNil(),0.0,1.0)),UnitBox{Nothing,Nothing,Nothing,Nothing}(nothing,nothing,nothing,nothing,Measure{MeasureNil,MeasureNil}(0.0,MeasureNil(),MeasureNil(),0.0,0.0),Measure{MeasureNil,MeasureNil}(0.0,MeasureNil(),MeasureNil(),0.0,0.0),Measure{MeasureNil,MeasureNil}(0.0,MeasureNil(),MeasureNil(),0.0,0.0),Measure{MeasureNil,MeasureNil}(0.0,MeasureNil(),MeasureNil(),0.0,0.0)),Rotation(0.0,Point(Measure{MeasureNil,MeasureNil}(0.0,MeasureNil(),MeasureNil(),0.5,0.0),Measure{MeasureNil,MeasureNil}(0.0,MeasureNil(),MeasureNil(),0.0,0.5))),nothing,ListNode{ComposeNode}(Form{LinePrimitive}([LinePrimitive([Point(Measure{Int64,MeasureNil}(0.0,0,MeasureNil(),0.0,0.0),Measure{MeasureNil,Float64}(0.0,MeasureNil(),0.5,0.0,0.0)),Point(Measure{Int64,MeasureNil}(0.0,1,MeasureNil(),0.0,0.0),Measure{MeasureNil,Float64}(0.0,MeasureNil(),0.5,0.0,0.0))])]),ListNode{ComposeNode}(Property{LineWidthPrimitive}([LineWidthPrimitive(Measure{MeasureNil,MeasureNil}(1.0,MeasureNil(),MeasureNil(),0.0,0.0))]),ListNode{ComposeNode}(Property{StrokePrimitive}([StrokePrimitive(RGB{Float64}(0.0,0.0,0.0))]),ListNull{ComposeNode}()))),0,false,false,false,false,nothing,nothing,0.0),ListNull{ComposeNode}()),0,false,false,false,false,nothing,nothing,0.0),ListNode{ComposeNode}(Context(BoundingBox(Measure{Float64,MeasureNil}(0.0,0.25,MeasureNil(),0.0,0.0),Measure{MeasureNil,Int64}(0.0,MeasureNil(),0,0.0,0.0),Measure{Float64,MeasureNil}(0.0,0.5,MeasureNil(),0.0,0.0),Measure{MeasureNil,Int64}(0.0,MeasureNil(),1,0.0,0.0)),UnitBox{Nothing,Nothing,Nothing,Nothing}(nothing,nothing,nothing,nothing,Measure{MeasureNil,MeasureNil}(0.0,MeasureNil(),MeasureNil(),0.0,0.0),Measure{MeasureNil,MeasureNil}(0.0,MeasureNil(),MeasureNil(),0.0,0.0),Measure{MeasureNil,MeasureNil}(0.0,MeasureNil(),MeasureNil(),0.0,0.0),Measure{MeasureNil,MeasureNil}(0.0,MeasureNil(),MeasureNil(),0.0,0.0)),Rotation(0.0,Point(Measure{MeasureNil,MeasureNil}(0.0,MeasureNil(),MeasureNil(),0.5,0.0),Measure{MeasureNil,MeasureNil}(0.0,MeasureNil(),MeasureNil(),0.0,0.5))),nothing,ListNode{ComposeNode}(Context(BoundingBox(Measure{MeasureNil,MeasureNil}(0.0,MeasureNil(),MeasureNil(),0.0,0.0),Measure{MeasureNil,MeasureNil}(0.0,MeasureNil(),MeasureNil(),0.0,0.0),Measure{MeasureNil,MeasureNil}(0.0,MeasureNil(),MeasureNil(),1.0,0.0),Measure{MeasureNil,MeasureNil}(0.0,MeasureNil(),MeasureNil(),0.0,1.0)),UnitBox{Nothing,Nothing,Nothing,Nothing}(nothing,nothing,nothing,nothing,Measure{MeasureNil,MeasureNil}(0.0,MeasureNil(),MeasureNil(),0.0,0.0),Measure{MeasureNil,MeasureNil}(0.0,MeasureNil(),MeasureNil(),0.0,0.0),Measure{MeasureNil,MeasureNil}(0.0,MeasureNil(),MeasureNil(),0.0,0.0),Measure{MeasureNil,MeasureNil}(0.0,MeasureNil(),MeasureNil(),0.0,0.0)),Rotation(0.0,Point(Measure{MeasureNil,MeasureNil}(0.0,MeasureNil(),MeasureNil(),0.5,0.0),Measure{MeasureNil,MeasureNil}(0.0,MeasureNil(),MeasureNil(),0.0,0.5))),nothing,ListNode{ComposeNode}(Form{TextPrimitive}([TextPrimitive(Point(Measure{Float64,MeasureNil}(0.0,0.5,MeasureNil(),0.0,0.0),Measure{MeasureNil,Float64}(0.0,MeasureNil(),0.55,0.0,0.0)),\"\u03f5\",HLeft(),VBottom(),Rotation(0.0,Point(Measure{MeasureNil,MeasureNil}(0.0,MeasureNil(),MeasureNil(),0.5,0.0),Measure{MeasureNil,MeasureNil}(0.0,MeasureNil(),MeasureNil(),0.0,0.5))))]),ListNode{ComposeNode}(Property{StrokePrimitive}([StrokePrimitive(RGB{Float64}(0.0,0.0,0.0))]),ListNode{ComposeNode}(Property{FillPrimitive}([FillPrimitive(AlphaColorValue{RGB{Float64},Float64}(RGB{Float64}(0.0,0.0,0.0),0.0))]),ListNode{ComposeNode}(Form{RectanglePrimitive}([RectanglePrimitive(Point(Measure{Int64,MeasureNil}(0.0,0,MeasureNil(),0.0,0.0),Measure{MeasureNil,Float64}(0.0,MeasureNil(),0.05,0.0,0.0)),Measure{Int64,MeasureNil}(0.0,1,MeasureNil(),0.0,0.0),Measure{MeasureNil,Float64}(0.0,MeasureNil(),0.9,0.0,0.0))]),ListNull{ComposeNode}())))),0,false,false,false,false,nothing,nothing,0.0),ListNull{ComposeNode}()),0,false,false,false,false,nothing,nothing,0.0),ListNode{ComposeNode}(Context(BoundingBox(Measure{Int64,MeasureNil}(0.0,0,MeasureNil(),0.0,0.0),Measure{MeasureNil,Int64}(0.0,MeasureNil(),0,0.0,0.0),Measure{Float64,MeasureNil}(0.0,0.25,MeasureNil(),0.0,0.0),Measure{MeasureNil,Int64}(0.0,MeasureNil(),1,0.0,0.0)),UnitBox{Nothing,Nothing,Nothing,Nothing}(nothing,nothing,nothing,nothing,Measure{MeasureNil,MeasureNil}(0.0,MeasureNil(),MeasureNil(),0.0,0.0),Measure{MeasureNil,MeasureNil}(0.0,MeasureNil(),MeasureNil(),0.0,0.0),Measure{MeasureNil,MeasureNil}(0.0,MeasureNil(),MeasureNil(),0.0,0.0),Measure{MeasureNil,MeasureNil}(0.0,MeasureNil(),MeasureNil(),0.0,0.0)),Rotation(0.0,Point(Measure{MeasureNil,MeasureNil}(0.0,MeasureNil(),MeasureNil(),0.5,0.0),Measure{MeasureNil,MeasureNil}(0.0,MeasureNil(),MeasureNil(),0.0,0.5))),nothing,ListNode{ComposeNode}(Context(BoundingBox(Measure{MeasureNil,MeasureNil}(0.0,MeasureNil(),MeasureNil(),0.0,0.0),Measure{MeasureNil,MeasureNil}(0.0,MeasureNil(),MeasureNil(),0.0,0.0),Measure{MeasureNil,MeasureNil}(0.0,MeasureNil(),MeasureNil(),1.0,0.0),Measure{MeasureNil,MeasureNil}(0.0,MeasureNil(),MeasureNil(),0.0,1.0)),UnitBox{Nothing,Nothing,Nothing,Nothing}(nothing,nothing,nothing,nothing,Measure{MeasureNil,MeasureNil}(0.0,MeasureNil(),MeasureNil(),0.0,0.0),Measure{MeasureNil,MeasureNil}(0.0,MeasureNil(),MeasureNil(),0.0,0.0),Measure{MeasureNil,MeasureNil}(0.0,MeasureNil(),MeasureNil(),0.0,0.0),Measure{MeasureNil,MeasureNil}(0.0,MeasureNil(),MeasureNil(),0.0,0.0)),Rotation(0.0,Point(Measure{MeasureNil,MeasureNil}(0.0,MeasureNil(),MeasureNil(),0.5,0.0),Measure{MeasureNil,MeasureNil}(0.0,MeasureNil(),MeasureNil(),0.0,0.5))),nothing,ListNode{ComposeNode}(Form{LinePrimitive}([LinePrimitive([Point(Measure{Int64,MeasureNil}(0.0,0,MeasureNil(),0.0,0.0),Measure{MeasureNil,Float64}(0.0,MeasureNil(),0.5,0.0,0.0)),Point(Measure{Int64,MeasureNil}(0.0,1,MeasureNil(),0.0,0.0),Measure{MeasureNil,Float64}(0.0,MeasureNil(),0.5,0.0,0.0))])]),ListNode{ComposeNode}(Property{LineWidthPrimitive}([LineWidthPrimitive(Measure{MeasureNil,MeasureNil}(1.0,MeasureNil(),MeasureNil(),0.0,0.0))]),ListNode{ComposeNode}(Property{StrokePrimitive}([StrokePrimitive(RGB{Float64}(0.0,0.0,0.0))]),ListNull{ComposeNode}()))),0,false,false,false,false,nothing,nothing,0.0),ListNull{ComposeNode}()),0,false,false,false,false,nothing,nothing,0.0),ListNull{ComposeNode}()))),0,false,false,false,false,nothing,nothing,0.0),Wires(1),Wires(1),1)},F)"
       ]
      }
     ],
     "prompt_number": 3
    },
    {
     "cell_type": "code",
     "collapsed": false,
     "input": [
      "dom(ket(3,\"\u03a8\")) #dom(F(f))"
     ],
     "language": "python",
     "metadata": {},
     "outputs": [
      {
       "metadata": {},
       "output_type": "pyout",
       "prompt_number": 4,
       "text": [
        "Wires(0)"
       ]
      }
     ],
     "prompt_number": 4
    },
    {
     "cell_type": "code",
     "collapsed": false,
     "input": [
      "T.dom[:\u03a8]"
     ],
     "language": "python",
     "metadata": {},
     "outputs": [
      {
       "metadata": {},
       "output_type": "pyout",
       "prompt_number": 6,
       "text": [
        "OWord(:I)"
       ]
      }
     ],
     "prompt_number": 6
    },
    {
     "cell_type": "code",
     "collapsed": false,
     "input": [
      "munit(Wires(1))"
     ],
     "language": "python",
     "metadata": {},
     "outputs": [
      {
       "metadata": {},
       "output_type": "pyout",
       "prompt_number": 4,
       "text": [
        "Wires(0)"
       ]
      }
     ],
     "prompt_number": 4
    },
    {
     "cell_type": "code",
     "collapsed": false,
     "input": [
      "\u03a8\u2297\u03a8"
     ],
     "language": "python",
     "metadata": {},
     "outputs": [
      {
       "metadata": {},
       "output_type": "pyout",
       "prompt_number": 5,
       "text": [
        "\u2297(\u03a8,\u03a8):I\u2297I\u2192V\u2297V\u2297V\u2297V\u2297V\u2297V over {\u03a8:I\u2192V\u2297V\u2297V,\u03f5:V\u2192V}"
       ]
      }
     ],
     "prompt_number": 5
    },
    {
     "cell_type": "code",
     "collapsed": false,
     "input": [
      "id(V\u2297V)"
     ],
     "language": "python",
     "metadata": {},
     "outputs": [
      {
       "metadata": {},
       "output_type": "pyout",
       "prompt_number": 35,
       "text": [
        "id(\u2297(V,V)):V\u2297V\u2192V\u2297V over {\u03a8:I\u2192V\u2297V\u2297V,\u03f5:V\u2192V}"
       ]
      }
     ],
     "prompt_number": 35
    },
    {
     "cell_type": "code",
     "collapsed": false,
     "input": [
      "bip1=\u03a8'\u2218(id(V)\u2297\u03f5\u2297\u03f5)\u2218 \u03a8"
     ],
     "language": "python",
     "metadata": {},
     "outputs": [
      {
       "metadata": {},
       "output_type": "pyout",
       "prompt_number": 36,
       "text": [
        "\u2218(\u2218(\u03a8d,\u2297(\u2297(id(V),\u03f5),\u03f5)),\u03a8):I\u2192I over {\u03a8:I\u2192V\u2297V\u2297V,\u03f5:V\u2192V}"
       ]
      }
     ],
     "prompt_number": 36
    },
    {
     "cell_type": "code",
     "collapsed": false,
     "input": [
      "id(V).contents"
     ],
     "language": "python",
     "metadata": {},
     "outputs": [
      {
       "metadata": {},
       "output_type": "pyout",
       "prompt_number": 37,
       "text": [
        ":(id(V))"
       ]
      }
     ],
     "prompt_number": 37
    },
    {
     "cell_type": "code",
     "collapsed": false,
     "input": [],
     "language": "python",
     "metadata": {},
     "outputs": [],
     "prompt_number": 38
    },
    {
     "cell_type": "code",
     "collapsed": false,
     "input": [],
     "language": "python",
     "metadata": {},
     "outputs": [],
     "prompt_number": 39
    },
    {
     "cell_type": "code",
     "collapsed": false,
     "input": [
      "using BinBraKet"
     ],
     "language": "python",
     "metadata": {},
     "outputs": [],
     "prompt_number": 40
    },
    {
     "cell_type": "code",
     "collapsed": false,
     "input": [],
     "language": "python",
     "metadata": {},
     "outputs": [],
     "prompt_number": 41
    },
    {
     "cell_type": "code",
     "collapsed": false,
     "input": [
      "\u03f5=ket\"0\"\u2218bra\"1\" - ket\"1\"\u2218bra\"0\""
     ],
     "language": "python",
     "metadata": {},
     "outputs": [
      {
       "metadata": {},
       "output_type": "pyout",
       "prompt_number": 42,
       "text": [
        "2x2 Array{Float64,2}:\n",
        "  0.0  1.0\n",
        " -1.0  0.0"
       ]
      }
     ],
     "prompt_number": 42
    },
    {
     "cell_type": "code",
     "collapsed": false,
     "input": [
      "\u03a8=ket\"001\"+ket\"010\"+ket\"100\";\n",
      "\u03a8d=\u03a8';\n",
      "V=2;"
     ],
     "language": "python",
     "metadata": {},
     "outputs": [],
     "prompt_number": 43
    },
    {
     "cell_type": "code",
     "collapsed": false,
     "input": [
      "bip1"
     ],
     "language": "python",
     "metadata": {},
     "outputs": [
      {
       "metadata": {},
       "output_type": "pyout",
       "prompt_number": 44,
       "text": [
        "\u2218(\u2218(\u03a8d,\u2297(\u2297(id(V),\u03f5),\u03f5)),\u03a8):I\u2192I over {\u03a8:I\u2192V\u2297V\u2297V,\u03f5:V\u2192V}"
       ]
      }
     ],
     "prompt_number": 44
    },
    {
     "cell_type": "code",
     "collapsed": false,
     "input": [
      "eval(bip1.contents)"
     ],
     "language": "python",
     "metadata": {},
     "outputs": [
      {
       "metadata": {},
       "output_type": "pyout",
       "prompt_number": 45,
       "text": [
        "1x1 Array{Float64,2}:\n",
        " -2.0"
       ]
      }
     ],
     "prompt_number": 45
    },
    {
     "cell_type": "code",
     "collapsed": false,
     "input": [
      "\u03a8'\u2218(id(V)\u2297\u03f5\u2297\u03f5)\u2218\u03a8"
     ],
     "language": "python",
     "metadata": {},
     "outputs": [
      {
       "metadata": {},
       "output_type": "pyout",
       "prompt_number": 46,
       "text": [
        "1x1 Array{Float64,2}:\n",
        " -2.0"
       ]
      }
     ],
     "prompt_number": 46
    },
    {
     "cell_type": "code",
     "collapsed": false,
     "input": [
      "val(f::FiniteTensorSignatures.MorphismWord)=eval(f.contents)"
     ],
     "language": "python",
     "metadata": {},
     "outputs": [
      {
       "metadata": {},
       "output_type": "pyout",
       "prompt_number": 47,
       "text": [
        "val (generic function with 1 method)"
       ]
      }
     ],
     "prompt_number": 47
    },
    {
     "cell_type": "code",
     "collapsed": false,
     "input": [
      "FiniteTensorSignatures.eval(bip1.contents)"
     ],
     "language": "python",
     "metadata": {},
     "outputs": [
      {
       "ename": "LoadError",
       "evalue": "\u03a8d not defined\nwhile loading In[48], in expression starting on line 1",
       "output_type": "pyerr",
       "traceback": [
        "\u03a8d not defined\nwhile loading In[48], in expression starting on line 1",
        "",
        " in eval at no file"
       ]
      }
     ],
     "prompt_number": 48
    },
    {
     "cell_type": "code",
     "collapsed": false,
     "input": [
      "IntMat2.eval(bip1)"
     ],
     "language": "python",
     "metadata": {},
     "outputs": [
      {
       "ename": "LoadError",
       "evalue": "IntMat2 not defined\nwhile loading In[49], in expression starting on line 1",
       "output_type": "pyerr",
       "traceback": [
        "IntMat2 not defined\nwhile loading In[49], in expression starting on line 1",
        ""
       ]
      }
     ],
     "prompt_number": 49
    },
    {
     "cell_type": "code",
     "collapsed": false,
     "input": [],
     "language": "python",
     "metadata": {},
     "outputs": [],
     "prompt_number": 50
    },
    {
     "cell_type": "code",
     "collapsed": false,
     "input": [
      "id(V)"
     ],
     "language": "python",
     "metadata": {},
     "outputs": [
      {
       "metadata": {},
       "output_type": "pyout",
       "prompt_number": 51,
       "text": [
        "2x2 Array{Float64,2}:\n",
        " 1.0  0.0\n",
        " 0.0  1.0"
       ]
      }
     ],
     "prompt_number": 51
    },
    {
     "cell_type": "code",
     "collapsed": false,
     "input": [
      "module W\n",
      "#export \u03a8\n",
      "using BinBraKet,MonoidalCategories\n",
      "\u03a8=ket\"001\"+ket\"010\"+ket\"100\"\n",
      "\u03a8d=\u03a8'\n",
      "\u03f5=ket\"0\"\u2218bra\"1\" - ket\"1\"\u2218bra\"0\"\n",
      "V=2\n",
      "end"
     ],
     "language": "python",
     "metadata": {},
     "outputs": [
      {
       "output_type": "stream",
       "stream": "stderr",
       "text": [
        "Warning: replacing module W\n"
       ]
      }
     ],
     "prompt_number": 52
    },
    {
     "cell_type": "code",
     "collapsed": false,
     "input": [
      "eval(W,bip1.contents)"
     ],
     "language": "python",
     "metadata": {},
     "outputs": [
      {
       "metadata": {},
       "output_type": "pyout",
       "prompt_number": 53,
       "text": [
        "1x1 Array{Float64,2}:\n",
        " -2.0"
       ]
      }
     ],
     "prompt_number": 53
    },
    {
     "cell_type": "code",
     "collapsed": false,
     "input": [
      "using WiresBoxes"
     ],
     "language": "python",
     "metadata": {},
     "outputs": [],
     "prompt_number": 54
    },
    {
     "cell_type": "code",
     "collapsed": false,
     "input": [
      "#This information can be automatically extracted from the TS\n",
      "\u03a8=ket(3,\"\u03a8\");\n",
      "\u03a8d=bra(3,\"\u03a8\");\n",
      "\u03f5=Box(1,1,\"\u03f5\");\n",
      "V=Wires(1);"
     ],
     "language": "python",
     "metadata": {},
     "outputs": [
      {
       "ename": "LoadError",
       "evalue": "Box: too many arguments (expected 1)\nwhile loading In[55], in expression starting on line 4",
       "output_type": "pyerr",
       "traceback": [
        "Box: too many arguments (expected 1)\nwhile loading In[55], in expression starting on line 4",
        ""
       ]
      }
     ],
     "prompt_number": 55
    },
    {
     "cell_type": "code",
     "collapsed": false,
     "input": [
      "typeof(Box)"
     ],
     "language": "python",
     "metadata": {},
     "outputs": [
      {
       "metadata": {},
       "output_type": "pyout",
       "prompt_number": 56,
       "text": [
        "DataType"
       ]
      }
     ],
     "prompt_number": 56
    },
    {
     "cell_type": "code",
     "collapsed": false,
     "input": [
      "bip1"
     ],
     "language": "python",
     "metadata": {},
     "outputs": [
      {
       "metadata": {},
       "output_type": "pyout",
       "prompt_number": 57,
       "text": [
        "\u2218(\u2218(\u03a8d,\u2297(\u2297(id(V),\u03f5),\u03f5)),\u03a8):I\u2192I over {\u03a8:I\u2192V\u2297V\u2297V,\u03f5:V\u2192V}"
       ]
      }
     ],
     "prompt_number": 57
    },
    {
     "cell_type": "code",
     "collapsed": false,
     "input": [
      "eval(bip1.contents).con"
     ],
     "language": "python",
     "metadata": {},
     "outputs": [
      {
       "ename": "LoadError",
       "evalue": "`\u2218` has no method matching \u2218(::Boxx, ::Array{Float64,2})\nwhile loading In[58], in expression starting on line 1",
       "output_type": "pyerr",
       "traceback": [
        "`\u2218` has no method matching \u2218(::Boxx, ::Array{Float64,2})\nwhile loading In[58], in expression starting on line 1",
        ""
       ]
      }
     ],
     "prompt_number": 58
    },
    {
     "cell_type": "code",
     "collapsed": false,
     "input": [],
     "language": "python",
     "metadata": {},
     "outputs": [],
     "prompt_number": 63
    },
    {
     "cell_type": "code",
     "collapsed": false,
     "input": [],
     "language": "python",
     "metadata": {},
     "outputs": [],
     "prompt_number": 60
    }
   ],
   "metadata": {}
  }
 ]
}