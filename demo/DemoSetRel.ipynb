{
 "metadata": {
  "language": "Julia",
  "name": "",
  "signature": "sha256:39880b2da51919e0f6c7d21c3a263fd6d5b50bf214c526fb94e44e0a221249a5"
 },
 "nbformat": 3,
 "nbformat_minor": 0,
 "worksheets": [
  {
   "cells": [
    {
     "cell_type": "code",
     "collapsed": false,
     "input": [
      "using SetRel"
     ],
     "language": "python",
     "metadata": {},
     "outputs": [],
     "prompt_number": 90
    },
    {
     "cell_type": "code",
     "collapsed": false,
     "input": [
      "A=FiniteSet([1,2,3,4]);B=FiniteSet([5,6,7]);C=FiniteSet([8,9])"
     ],
     "language": "python",
     "metadata": {},
     "outputs": [
      {
       "metadata": {},
       "output_type": "pyout",
       "prompt_number": 91,
       "text": [
        "FiniteSet(Set{Int64}({9,8}))"
       ]
      }
     ],
     "prompt_number": 91
    },
    {
     "cell_type": "code",
     "collapsed": false,
     "input": [
      "A\u2297B"
     ],
     "language": "python",
     "metadata": {},
     "outputs": [
      {
       "metadata": {},
       "output_type": "pyout",
       "prompt_number": 92,
       "text": [
        "FiniteSet(Set{(Any,Any)}({(1,6),(3,6),(2,6),(4,6),(2,5),(1,7),(4,7),(4,5),(3,7),(2,7),(1,5),(3,5)}))"
       ]
      }
     ],
     "prompt_number": 92
    },
    {
     "cell_type": "code",
     "collapsed": false,
     "input": [
      "R=Relation([(1,5),(1,6),(3,5)],A,B)"
     ],
     "language": "python",
     "metadata": {},
     "outputs": [
      {
       "metadata": {},
       "output_type": "pyout",
       "prompt_number": 93,
       "text": [
        "Relation(Set{(Int64,Int64)}({(1,6),(1,5),(3,5)}),FiniteSet(Set{Int64}({4,2,3,1})),FiniteSet(Set{Int64}({7,5,6})))"
       ]
      }
     ],
     "prompt_number": 93
    },
    {
     "cell_type": "code",
     "collapsed": false,
     "input": [
      "S=Relation([(5,8),(6,8),(7,9)],B,C)"
     ],
     "language": "python",
     "metadata": {},
     "outputs": [
      {
       "metadata": {},
       "output_type": "pyout",
       "prompt_number": 94,
       "text": [
        "Relation(Set{(Int64,Int64)}({(7,9),(6,8),(5,8)}),FiniteSet(Set{Int64}({7,5,6})),FiniteSet(Set{Int64}({9,8})))"
       ]
      }
     ],
     "prompt_number": 94
    },
    {
     "cell_type": "code",
     "collapsed": false,
     "input": [
      "Q=Relation([(1,5)],A,B)"
     ],
     "language": "python",
     "metadata": {},
     "outputs": [
      {
       "metadata": {},
       "output_type": "pyout",
       "prompt_number": 95,
       "text": [
        "Relation(Set{(Int64,Int64)}({(1,5)}),FiniteSet(Set{Int64}({4,2,3,1})),FiniteSet(Set{Int64}({7,5,6})))"
       ]
      }
     ],
     "prompt_number": 95
    },
    {
     "cell_type": "code",
     "collapsed": false,
     "input": [
      "S\u2218R"
     ],
     "language": "python",
     "metadata": {},
     "outputs": [
      {
       "metadata": {},
       "output_type": "pyout",
       "prompt_number": 96,
       "text": [
        "Relation(Set{Any}({(1,8),(3,8)}),FiniteSet(Set{Int64}({4,2,3,1})),FiniteSet(Set{Int64}({9,8})))"
       ]
      }
     ],
     "prompt_number": 96
    },
    {
     "cell_type": "code",
     "collapsed": false,
     "input": [
      "S\u2297R"
     ],
     "language": "python",
     "metadata": {},
     "outputs": [
      {
       "metadata": {},
       "output_type": "pyout",
       "prompt_number": 97,
       "text": [
        "Relation(Set{((Any,Any),(Any,Any))}({((6,1),(8,5)),((7,3),(9,5)),((5,1),(8,5)),((6,3),(8,5)),((5,1),(8,6)),((5,3),(8,5)),((6,1),(8,6)),((7,1),(9,6)),((7,1),(9,5))}),FiniteSet(Set{(Any,Any)}({(7,2),(5,4),(6,3),(6,1),(6,2),(7,4),(7,1),(6,4),(5,2),(7,3),(5,1),(5,3)})),FiniteSet(Set{(Any,Any)}({(8,7),(9,7),(8,5),(9,6),(8,6),(9,5)})))"
       ]
      }
     ],
     "prompt_number": 97
    },
    {
     "cell_type": "code",
     "collapsed": false,
     "input": [
      "munit(A)"
     ],
     "language": "python",
     "metadata": {},
     "outputs": [
      {
       "metadata": {},
       "output_type": "pyout",
       "prompt_number": 98,
       "text": [
        "FiniteSet(Set{Nothing}({nothing}))"
       ]
      }
     ],
     "prompt_number": 98
    },
    {
     "cell_type": "code",
     "collapsed": false,
     "input": [
      "munit(A)\u2297B"
     ],
     "language": "python",
     "metadata": {},
     "outputs": [
      {
       "metadata": {},
       "output_type": "pyout",
       "prompt_number": 99,
       "text": [
        "FiniteSet(Set{Int64}({7,5,6}))"
       ]
      }
     ],
     "prompt_number": 99
    },
    {
     "cell_type": "code",
     "collapsed": false,
     "input": [
      "ev(cod(Q))\u2297id(dual(dom(Q)))"
     ],
     "language": "python",
     "metadata": {},
     "outputs": [
      {
       "metadata": {},
       "output_type": "pyout",
       "prompt_number": 100,
       "text": [
        "Relation(Set{((Any,Any),(Any,Any))}({(((6,6),2),(nothing,2)),(((7,7),2),(nothing,2)),(((6,6),3),(nothing,3)),(((5,5),1),(nothing,1)),(((7,7),3),(nothing,3)),(((6,6),4),(nothing,4)),(((5,5),3),(nothing,3)),(((5,5),4),(nothing,4)),(((5,5),2),(nothing,2)),(((7,7),1),(nothing,1)),(((7,7),4),(nothing,4)),(((6,6),1),(nothing,1))}),FiniteSet(Set{(Any,Any)}({((5,6),4),((7,5),2),((6,5),3),((6,7),1),((6,6),4),((6,7),3),((7,7),2),((5,6),2),((5,5),2),((5,7),1),((7,5),1),((7,6),1),((6,6),1),((5,7),2),((6,5),2),((5,7),4),((6,6),3),((5,5),1),((6,7),2),((7,6),4),((6,7),4),((7,6),3),((5,6),1),((7,7),1),((5,5),4),((6,5),1),((6,5),4),((6,6),2),((7,6),2),((7,5),4),((5,6),3),((5,5),3),((7,7),3),((7,7),4),((5,7),3),((7,5),3)})),FiniteSet(Set{Int64}({4,2,3,1})))"
       ]
      }
     ],
     "prompt_number": 100
    },
    {
     "cell_type": "code",
     "collapsed": false,
     "input": [
      "transp(Q) "
     ],
     "language": "python",
     "metadata": {},
     "outputs": [
      {
       "metadata": {},
       "output_type": "pyout",
       "prompt_number": 101,
       "text": [
        "Relation(Set{(Any,Any)}({(5,1)}),FiniteSet(Set{Int64}({7,5,6})),FiniteSet(Set{Int64}({4,2,3,1})))"
       ]
      }
     ],
     "prompt_number": 101
    },
    {
     "cell_type": "code",
     "collapsed": false,
     "input": [
      "dual(A)"
     ],
     "language": "python",
     "metadata": {},
     "outputs": [
      {
       "metadata": {},
       "output_type": "pyout",
       "prompt_number": 102,
       "text": [
        "FiniteSet(Set{Int64}({4,2,3,1}))"
       ]
      }
     ],
     "prompt_number": 102
    },
    {
     "cell_type": "code",
     "collapsed": false,
     "input": [
      " [(nothing,(a,a)) for a in A.contents]"
     ],
     "language": "python",
     "metadata": {},
     "outputs": [
      {
       "metadata": {},
       "output_type": "pyout",
       "prompt_number": 103,
       "text": [
        "4-element Array{(Nothing,(Any,Any)),1}:\n",
        " (nothing,(4,4))\n",
        " (nothing,(2,2))\n",
        " (nothing,(3,3))\n",
        " (nothing,(1,1))"
       ]
      }
     ],
     "prompt_number": 103
    },
    {
     "cell_type": "code",
     "collapsed": false,
     "input": [
      "coev(C)"
     ],
     "language": "python",
     "metadata": {},
     "outputs": [
      {
       "metadata": {},
       "output_type": "pyout",
       "prompt_number": 104,
       "text": [
        "Relation(Set{(Nothing,(Any,Any))}({(nothing,(9,9)),(nothing,(8,8))}),FiniteSet(Set{Nothing}({nothing})),FiniteSet(Set{(Any,Any)}({(8,8),(9,8),(9,9),(8,9)})))"
       ]
      }
     ],
     "prompt_number": 104
    },
    {
     "cell_type": "code",
     "collapsed": false,
     "input": [
      "ev(C)"
     ],
     "language": "python",
     "metadata": {},
     "outputs": [
      {
       "metadata": {},
       "output_type": "pyout",
       "prompt_number": 105,
       "text": [
        "Relation(Set{((Any,Any),Nothing)}({((8,8),nothing),((9,9),nothing)}),FiniteSet(Set{(Any,Any)}({(8,8),(9,8),(9,9),(8,9)})),FiniteSet(Set{Nothing}({nothing})))"
       ]
      }
     ],
     "prompt_number": 105
    },
    {
     "cell_type": "code",
     "collapsed": false,
     "input": [
      "dom(coev(A))"
     ],
     "language": "python",
     "metadata": {},
     "outputs": [
      {
       "metadata": {},
       "output_type": "pyout",
       "prompt_number": 106,
       "text": [
        "FiniteSet(Set{Nothing}({nothing}))"
       ]
      }
     ],
     "prompt_number": 106
    },
    {
     "cell_type": "code",
     "collapsed": false,
     "input": [
      "#there are two scalars in SetRel, isomorphic to T/F when viewing SetRel as a SRel with S=Boolean semiring\n",
      "ev(C)\u2218coev(C)  #True"
     ],
     "language": "python",
     "metadata": {},
     "outputs": [
      {
       "metadata": {},
       "output_type": "pyout",
       "prompt_number": 107,
       "text": [
        "Relation(Set{Any}({(nothing,nothing)}),FiniteSet(Set{Nothing}({nothing})),FiniteSet(Set{Nothing}({nothing})))"
       ]
      }
     ],
     "prompt_number": 107
    },
    {
     "cell_type": "code",
     "collapsed": false,
     "input": [
      "ev(C)\u2218coev(C) \u2218 ev(C)\u2218coev(C) == ev(C)\u2218coev(C) "
     ],
     "language": "python",
     "metadata": {},
     "outputs": [
      {
       "metadata": {},
       "output_type": "pyout",
       "prompt_number": 108,
       "text": [
        "true"
       ]
      }
     ],
     "prompt_number": 108
    },
    {
     "cell_type": "code",
     "collapsed": false,
     "input": [
      "(ev(C)\u2218coev(C)) \u2297 (ev(C)\u2218coev(C)) == SetRel.trueSetRel#should also be True"
     ],
     "language": "python",
     "metadata": {},
     "outputs": [
      {
       "metadata": {},
       "output_type": "pyout",
       "prompt_number": 109,
       "text": [
        "true"
       ]
      }
     ],
     "prompt_number": 109
    },
    {
     "cell_type": "code",
     "collapsed": false,
     "input": [
      "ev(C)\u2218coev(C) == Relation(Any[(nothing,nothing)],munit(C),munit(C))"
     ],
     "language": "python",
     "metadata": {},
     "outputs": [
      {
       "metadata": {},
       "output_type": "pyout",
       "prompt_number": 110,
       "text": [
        "true"
       ]
      }
     ],
     "prompt_number": 110
    },
    {
     "cell_type": "code",
     "collapsed": false,
     "input": [
      "ev(C)\u2218coev(B) #should give a domain error"
     ],
     "language": "python",
     "metadata": {},
     "outputs": [
      {
       "ename": "LoadError",
       "evalue": "Domain FiniteSet(Set{(Any,Any)}({(8,8),(9,8),(9,9),(8,9)})) unequal to codomain FiniteSet(Set{(Any,Any)}({(7,5),(7,6),(6,6),(5,5),(5,6),(7,7),(6,7),(6,5),(5,7)}))\nwhile loading In[111], in expression starting on line 1",
       "output_type": "pyerr",
       "traceback": [
        "Domain FiniteSet(Set{(Any,Any)}({(8,8),(9,8),(9,9),(8,9)})) unequal to codomain FiniteSet(Set{(Any,Any)}({(7,5),(7,6),(6,6),(5,5),(5,6),(7,7),(6,7),(6,5),(5,7)}))\nwhile loading In[111], in expression starting on line 1",
        "",
        " in error at error.jl:21",
        " in compose at C:\\Users\\Jason\\Dropbox\\GeneralizedTensorNetworks1\\Julia\\SetRel.jl:42",
        " in \u2218 at no file"
       ]
      }
     ],
     "prompt_number": 111
    },
    {
     "cell_type": "code",
     "collapsed": false,
     "input": [
      "#False is \n",
      "F=Relation(Any[],munit(C),munit(C))"
     ],
     "language": "python",
     "metadata": {},
     "outputs": [
      {
       "metadata": {},
       "output_type": "pyout",
       "prompt_number": 112,
       "text": [
        "Relation(Set{Any}({}),FiniteSet(Set{Nothing}({nothing})),FiniteSet(Set{Nothing}({nothing})))"
       ]
      }
     ],
     "prompt_number": 112
    },
    {
     "cell_type": "code",
     "collapsed": false,
     "input": [
      "F==SetRel.falseSetRel"
     ],
     "language": "python",
     "metadata": {},
     "outputs": [
      {
       "metadata": {},
       "output_type": "pyout",
       "prompt_number": 113,
       "text": [
        "true"
       ]
      }
     ],
     "prompt_number": 113
    },
    {
     "cell_type": "code",
     "collapsed": false,
     "input": [
      "F \u2297 R #empty relation with dom and cod of R, like multiplying by zero"
     ],
     "language": "python",
     "metadata": {},
     "outputs": [
      {
       "metadata": {},
       "output_type": "pyout",
       "prompt_number": 114,
       "text": [
        "Relation(Set{((Any,Any),(Any,Any))}({}),FiniteSet(Set{Int64}({4,2,3,1})),FiniteSet(Set{Int64}({7,5,6})))"
       ]
      }
     ],
     "prompt_number": 114
    },
    {
     "cell_type": "code",
     "collapsed": false,
     "input": [
      "sigma(A,B)"
     ],
     "language": "python",
     "metadata": {},
     "outputs": [
      {
       "metadata": {},
       "output_type": "pyout",
       "prompt_number": 115,
       "text": [
        "Relation(Set{((Any,Any),(Any,Any))}({((2,7),(7,2)),((4,6),(6,4)),((4,7),(7,4)),((2,5),(5,2)),((1,6),(6,1)),((1,5),(5,1)),((3,6),(6,3)),((3,5),(5,3)),((4,5),(5,4)),((3,7),(7,3)),((2,6),(6,2)),((1,7),(7,1))}),FiniteSet(Set{(Any,Any)}({(1,6),(3,6),(2,6),(4,6),(2,5),(1,7),(4,7),(4,5),(3,7),(2,7),(1,5),(3,5)})),FiniteSet(Set{(Any,Any)}({(7,2),(5,4),(6,3),(6,1),(6,2),(7,4),(7,1),(6,4),(5,2),(7,3),(5,1),(5,3)})))"
       ]
      }
     ],
     "prompt_number": 115
    },
    {
     "cell_type": "code",
     "collapsed": false,
     "input": [
      "R\u2297S"
     ],
     "language": "python",
     "metadata": {},
     "outputs": [
      {
       "metadata": {},
       "output_type": "pyout",
       "prompt_number": 116,
       "text": [
        "Relation(Set{((Any,Any),(Any,Any))}({((3,5),(5,8)),((1,7),(5,9)),((1,6),(6,8)),((1,5),(6,8)),((1,7),(6,9)),((1,6),(5,8)),((1,5),(5,8)),((3,7),(5,9)),((3,6),(5,8))}),FiniteSet(Set{(Any,Any)}({(1,6),(3,6),(2,6),(4,6),(2,5),(1,7),(4,7),(4,5),(3,7),(2,7),(1,5),(3,5)})),FiniteSet(Set{(Any,Any)}({(7,9),(5,9),(6,9),(7,8),(6,8),(5,8)})))"
       ]
      }
     ],
     "prompt_number": 116
    },
    {
     "cell_type": "code",
     "collapsed": false,
     "input": [
      "dom((R\u2297S))==A\u2297B"
     ],
     "language": "python",
     "metadata": {},
     "outputs": [
      {
       "metadata": {},
       "output_type": "pyout",
       "prompt_number": 117,
       "text": [
        "true"
       ]
      }
     ],
     "prompt_number": 117
    },
    {
     "cell_type": "code",
     "collapsed": false,
     "input": [
      "cod(sigma(B,A))==A\u2297B"
     ],
     "language": "python",
     "metadata": {},
     "outputs": [
      {
       "metadata": {},
       "output_type": "pyout",
       "prompt_number": 118,
       "text": [
        "true"
       ]
      }
     ],
     "prompt_number": 118
    },
    {
     "cell_type": "code",
     "collapsed": false,
     "input": [
      "dom(sigma(B,C))==cod(R\u2297S)"
     ],
     "language": "python",
     "metadata": {},
     "outputs": [
      {
       "metadata": {},
       "output_type": "pyout",
       "prompt_number": 119,
       "text": [
        "true"
       ]
      }
     ],
     "prompt_number": 119
    },
    {
     "cell_type": "code",
     "collapsed": false,
     "input": [
      "(sigma(B,C)\u2218(R\u2297S)\u2218sigma(B,A))==S\u2297R"
     ],
     "language": "python",
     "metadata": {},
     "outputs": [
      {
       "metadata": {},
       "output_type": "pyout",
       "prompt_number": 120,
       "text": [
        "true"
       ]
      }
     ],
     "prompt_number": 120
    },
    {
     "cell_type": "code",
     "collapsed": false,
     "input": [
      "(S\u2297R).contents"
     ],
     "language": "python",
     "metadata": {},
     "outputs": [
      {
       "metadata": {},
       "output_type": "pyout",
       "prompt_number": 121,
       "text": [
        "Set{((Any,Any),(Any,Any))}({((6,1),(8,5)),((7,3),(9,5)),((5,1),(8,5)),((6,3),(8,5)),((5,1),(8,6)),((5,3),(8,5)),((6,1),(8,6)),((7,1),(9,6)),((7,1),(9,5))})"
       ]
      }
     ],
     "prompt_number": 121
    },
    {
     "cell_type": "code",
     "collapsed": false,
     "input": [
      "(R\u2297S).contents"
     ],
     "language": "python",
     "metadata": {},
     "outputs": [
      {
       "metadata": {},
       "output_type": "pyout",
       "prompt_number": 122,
       "text": [
        "Set{((Any,Any),(Any,Any))}({((3,5),(5,8)),((1,7),(5,9)),((1,6),(6,8)),((1,5),(6,8)),((1,7),(6,9)),((1,6),(5,8)),((1,5),(5,8)),((3,7),(5,9)),((3,6),(5,8))})"
       ]
      }
     ],
     "prompt_number": 122
    },
    {
     "cell_type": "code",
     "collapsed": false,
     "input": [
      "ev(A)\u2218sigma(A,A)\u2218coev(A)==SetRel.trueSetRel"
     ],
     "language": "python",
     "metadata": {},
     "outputs": [
      {
       "metadata": {},
       "output_type": "pyout",
       "prompt_number": 123,
       "text": [
        "true"
       ]
      }
     ],
     "prompt_number": 123
    },
    {
     "cell_type": "code",
     "collapsed": false,
     "input": [],
     "language": "python",
     "metadata": {},
     "outputs": [],
     "prompt_number": 124
    },
    {
     "cell_type": "code",
     "collapsed": false,
     "input": [],
     "language": "python",
     "metadata": {},
     "outputs": [],
     "prompt_number": 125
    },
    {
     "cell_type": "code",
     "collapsed": false,
     "input": [],
     "language": "python",
     "metadata": {},
     "outputs": [],
     "prompt_number": 126
    }
   ],
   "metadata": {}
  }
 ]
}